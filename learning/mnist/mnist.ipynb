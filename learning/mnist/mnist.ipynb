{
 "cells": [
  {
   "cell_type": "code",
   "id": "initial_id",
   "metadata": {
    "collapsed": true,
    "ExecuteTime": {
     "end_time": "2025-09-07T10:55:36.604884Z",
     "start_time": "2025-09-07T10:55:34.012136Z"
    }
   },
   "source": [
    "import matplotlib.pyplot as plt\n",
    "import numpy as np\n",
    "import pandas as pd\n",
    "import time\n",
    "import os\n",
    "from sklearn import svm\n",
    "from sklearn.datasets import fetch_openml\n",
    "from sklearn.metrics import accuracy_score,classification_report\n",
    "from sklearn.neighbors import KNeighborsClassifier\n",
    "from PIL import Image\n"
   ],
   "outputs": [],
   "execution_count": 1
  },
  {
   "metadata": {
    "ExecuteTime": {
     "end_time": "2025-09-07T10:55:45.222574Z",
     "start_time": "2025-09-07T10:55:36.612137Z"
    }
   },
   "cell_type": "code",
   "source": [
    "HOUSING_PATH = os.path.join(\"..\", \"datasets\", \"mnist\")\n",
    "\n",
    "mnist = fetch_openml('mnist_784', version='active', cache=True, as_frame=True, data_home=HOUSING_PATH)\n",
    "images = mnist.data\n",
    "labels = mnist.target\n",
    "\n",
    "shape = images.shape\n",
    "shape\n",
    "\n"
   ],
   "id": "fd8591646474a8a2",
   "outputs": [
    {
     "data": {
      "text/plain": [
       "(70000, 784)"
      ]
     },
     "execution_count": 2,
     "metadata": {},
     "output_type": "execute_result"
    }
   ],
   "execution_count": 2
  },
  {
   "metadata": {
    "ExecuteTime": {
     "end_time": "2025-09-07T10:55:46.025255Z",
     "start_time": "2025-09-07T10:55:45.494231Z"
    }
   },
   "cell_type": "code",
   "source": [
    "# Prepare a subset of data\n",
    "size = 70000\n",
    "train_size = int(size * 0.8)\n",
    "\n",
    "index_number = np.random.permutation(size)\n",
    "data_X = images.iloc[index_number] / 255.0\n",
    "Y = labels.iloc[index_number]\n",
    "\n",
    "X_train, X_test = data_X[:train_size], data_X[train_size:]\n",
    "y_train, y_test = Y[:train_size], Y[train_size:]\n"
   ],
   "id": "bb3ae32e9885bd7",
   "outputs": [],
   "execution_count": 3
  },
  {
   "metadata": {
    "ExecuteTime": {
     "end_time": "2025-09-07T10:59:42.370208Z",
     "start_time": "2025-09-07T10:55:46.039265Z"
    }
   },
   "cell_type": "code",
   "source": [
    "# create a classifier: a support vector classifier\n",
    "classifier = svm.SVC(C=1, gamma='scale')\n",
    "start_time = time.perf_counter()\n",
    "\n",
    "classifier.fit(X_train, y_train)\n",
    "end_time = time.perf_counter()\n",
    "print(f\"Training time: {end_time - start_time:.4f} seconds\")\n"
   ],
   "id": "3b15119b009c367b",
   "outputs": [
    {
     "name": "stdout",
     "output_type": "stream",
     "text": [
      "Training time: 236.3256 seconds\n"
     ]
    }
   ],
   "execution_count": 4
  },
  {
   "metadata": {
    "ExecuteTime": {
     "end_time": "2025-09-07T11:01:32.508136Z",
     "start_time": "2025-09-07T10:59:42.686670Z"
    }
   },
   "cell_type": "code",
   "source": [
    "expected = y_test\n",
    "predicted = classifier.predict(X_test)\n",
    "\n",
    "# plot n-first expected and predicted values\n",
    "n = 10\n",
    "plt.figure(figsize=(12, 6))\n",
    "for i in range(n):\n",
    "    plt.subplot(2, n, i + 1)\n",
    "    plt.imshow(X_test.iloc[i].to_numpy().reshape(28, 28), cmap=plt.cm.gray, interpolation='nearest')\n",
    "    plt.title(f\"E: {expected.iloc[i]} P: {predicted[i]}\")\n",
    "    plt.axis('off')\n",
    "\n"
   ],
   "id": "6bae910674cb8749",
   "outputs": [
    {
     "data": {
      "text/plain": [
       "<Figure size 1200x600 with 10 Axes>"
      ],
      "image/png": "[encoded data removed]"
     },
     "metadata": {},
     "output_type": "display_data",
     "jetTransient": {
      "display_id": null
     }
    }
   ],
   "execution_count": 5
  },
  {
   "metadata": {
    "ExecuteTime": {
     "end_time": "2025-09-07T11:01:32.846491Z",
     "start_time": "2025-09-07T11:01:32.715253Z"
    }
   },
   "cell_type": "code",
   "source": [
    "print('Accuracy :',accuracy_score(y_test, predicted))\n",
    "print(classification_report(y_test, predicted))"
   ],
   "id": "e75993b83e874924",
   "outputs": [
    {
     "name": "stdout",
     "output_type": "stream",
     "text": [
      "Accuracy : 0.98\n",
      "              precision    recall  f1-score   support\n",
      "\n",
      "           0       0.99      0.99      0.99      1430\n",
      "           1       0.99      0.99      0.99      1663\n",
      "           2       0.97      0.98      0.97      1339\n",
      "           3       0.98      0.97      0.98      1401\n",
      "           4       0.97      0.98      0.98      1326\n",
      "           5       0.98      0.98      0.98      1253\n",
      "           6       0.98      0.99      0.99      1328\n",
      "           7       0.97      0.98      0.98      1470\n",
      "           8       0.98      0.97      0.98      1418\n",
      "           9       0.98      0.97      0.97      1372\n",
      "\n",
      "    accuracy                           0.98     14000\n",
      "   macro avg       0.98      0.98      0.98     14000\n",
      "weighted avg       0.98      0.98      0.98     14000\n",
      "\n"
     ]
    }
   ],
   "execution_count": 6
  },
  {
   "metadata": {
    "ExecuteTime": {
     "end_time": "2025-09-07T11:01:32.878981Z",
     "start_time": "2025-09-07T11:01:32.855504Z"
    }
   },
   "cell_type": "code",
   "source": [
    "# load an image from a file\n",
    "\n",
    "\n",
    "file_names = [f'{HOUSING_PATH}\\digit{i}.png' for i in range(10)]\n",
    "img_list = []\n",
    "\n",
    "for file_name in file_names:\n",
    "    img = Image.open(file_name).convert('L')\n",
    "    img_array = 1.0 - (np.array(img) / 255.0)\n",
    "    img_flat = img_array.flatten()\n",
    "    img_list.append(img_flat)\n"
   ],
   "id": "bcdae35d7f96be8f",
   "outputs": [],
   "execution_count": 7
  },
  {
   "metadata": {
    "ExecuteTime": {
     "end_time": "2025-09-07T11:01:33.009757Z",
     "start_time": "2025-09-07T11:01:32.887990Z"
    }
   },
   "cell_type": "code",
   "source": [
    "# predict the digit\n",
    "img_df = pd.DataFrame(img_list, columns=X_test.columns)\n",
    "prediction = classifier.predict(img_df)\n",
    "print(f\"Predicted digits: {prediction}\")"
   ],
   "id": "981f205181288ffb",
   "outputs": [
    {
     "name": "stdout",
     "output_type": "stream",
     "text": [
      "Predicted digits: ['0' '1' '2' '3' '5' '5' '6' '2' '8' '3']\n"
     ]
    }
   ],
   "execution_count": 8
  },
  {
   "metadata": {
    "ExecuteTime": {
     "end_time": "2025-09-07T11:01:33.312081Z",
     "start_time": "2025-09-07T11:01:33.019062Z"
    }
   },
   "cell_type": "code",
   "source": [
    "# draw the images from table img_df and predicted values\n",
    "plt.figure(figsize=(12, 6))\n",
    "for i in range(len(img_df)):\n",
    "    plt.subplot(2, 5, i + 1)\n",
    "    plt.imshow(img_df.iloc[i].to_numpy().reshape(28, 28), cmap='gray', interpolation='nearest')\n",
    "    plt.title(f\"P: {prediction[i]}\")\n",
    "    plt.axis('off')\n",
    "plt.show()"
   ],
   "id": "883e076d96c824c4",
   "outputs": [
    {
     "data": {
      "text/plain": [
       "<Figure size 1200x600 with 10 Axes>"
      ],
      "image/png": "[encoded data removed]"
     },
     "metadata": {},
     "output_type": "display_data",
     "jetTransient": {
      "display_id": null
     }
    }
   ],
   "execution_count": 9
  },
  {
   "metadata": {
    "ExecuteTime": {
     "end_time": "2025-09-07T11:01:46.859970Z",
     "start_time": "2025-09-07T11:01:33.321397Z"
    }
   },
   "cell_type": "code",
   "source": [
    "knn = KNeighborsClassifier(n_neighbors=6, weights='distance')\n",
    "knn.fit(X_train, y_train)\n",
    "\n",
    "# Predict on dataset which model has not seen before\n",
    "result = knn.predict(X_test)\n",
    "print('Accuracy :', accuracy_score(y_test, result))\n",
    "print(classification_report(y_test, result))"
   ],
   "id": "e82ebe8f7803c27c",
   "outputs": [
    {
     "name": "stdout",
     "output_type": "stream",
     "text": [
      "Accuracy : 0.973\n",
      "              precision    recall  f1-score   support\n",
      "\n",
      "           0       0.99      0.99      0.99      1430\n",
      "           1       0.97      0.99      0.98      1663\n",
      "           2       0.99      0.96      0.97      1339\n",
      "           3       0.97      0.97      0.97      1401\n",
      "           4       0.98      0.97      0.98      1326\n",
      "           5       0.97      0.97      0.97      1253\n",
      "           6       0.97      0.99      0.98      1328\n",
      "           7       0.96      0.98      0.97      1470\n",
      "           8       0.99      0.94      0.96      1418\n",
      "           9       0.96      0.96      0.96      1372\n",
      "\n",
      "    accuracy                           0.97     14000\n",
      "   macro avg       0.97      0.97      0.97     14000\n",
      "weighted avg       0.97      0.97      0.97     14000\n",
      "\n"
     ]
    }
   ],
   "execution_count": 10
  },
  {
   "metadata": {
    "ExecuteTime": {
     "end_time": "2025-09-07T11:01:47.133367Z",
     "start_time": "2025-09-07T11:01:47.073800Z"
    }
   },
   "cell_type": "code",
   "source": [
    "result = knn.predict(img_df)\n",
    "print(f\"Predicted digits: {result}\")\n"
   ],
   "id": "132055f42a50f55b",
   "outputs": [
    {
     "name": "stdout",
     "output_type": "stream",
     "text": [
      "Predicted digits: ['0' '1' '2' '3' '9' '5' '6' '1' '8' '3']\n"
     ]
    }
   ],
   "execution_count": 11
  }
 ],
 "metadata": {
  "kernelspec": {
   "display_name": "Python 3",
   "language": "python",
   "name": "python3"
  },
  "language_info": {
   "codemirror_mode": {
    "name": "ipython",
    "version": 2
   },
   "file_extension": ".py",
   "mimetype": "text/x-python",
   "name": "python",
   "nbconvert_exporter": "python",
   "pygments_lexer": "ipython2",
   "version": "2.7.6"
  }
 },
 "nbformat": 4,
 "nbformat_minor": 5
}
